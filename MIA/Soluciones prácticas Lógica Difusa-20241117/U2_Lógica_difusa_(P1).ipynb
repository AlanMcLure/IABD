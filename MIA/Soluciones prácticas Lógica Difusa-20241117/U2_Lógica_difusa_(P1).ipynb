{
  "nbformat": 4,
  "nbformat_minor": 0,
  "metadata": {
    "kernelspec": {
      "display_name": "Python 3",
      "language": "python",
      "name": "python3"
    },
    "language_info": {
      "codemirror_mode": {
        "name": "ipython",
        "version": 3
      },
      "file_extension": ".py",
      "mimetype": "text/x-python",
      "name": "python",
      "nbconvert_exporter": "python",
      "pygments_lexer": "ipython3",
      "version": "3.8.5"
    },
    "colab": {
      "name": "U2 :: Lógica difusa (P1).ipynb",
      "provenance": [],
      "collapsed_sections": []
    }
  },
  "cells": [
    {
      "cell_type": "code",
      "metadata": {
        "scrolled": true,
        "colab": {
          "base_uri": "https://localhost:8080/"
        },
        "id": "f69dJ-TQs1CX",
        "outputId": "7a45e9a8-af23-4f3c-953e-ad8e5841cc25"
      },
      "source": [
        "pip install -U scikit-fuzzy"
      ],
      "execution_count": null,
      "outputs": [
        {
          "output_type": "stream",
          "name": "stdout",
          "text": [
            "Collecting scikit-fuzzy\n",
            "  Downloading scikit-fuzzy-0.4.2.tar.gz (993 kB)\n",
            "\u001b[?25l\r\u001b[K     |▎                               | 10 kB 20.9 MB/s eta 0:00:01\r\u001b[K     |▋                               | 20 kB 27.6 MB/s eta 0:00:01\r\u001b[K     |█                               | 30 kB 14.9 MB/s eta 0:00:01\r\u001b[K     |█▎                              | 40 kB 11.5 MB/s eta 0:00:01\r\u001b[K     |█▋                              | 51 kB 5.5 MB/s eta 0:00:01\r\u001b[K     |██                              | 61 kB 5.9 MB/s eta 0:00:01\r\u001b[K     |██▎                             | 71 kB 5.2 MB/s eta 0:00:01\r\u001b[K     |██▋                             | 81 kB 5.8 MB/s eta 0:00:01\r\u001b[K     |███                             | 92 kB 5.9 MB/s eta 0:00:01\r\u001b[K     |███▎                            | 102 kB 5.2 MB/s eta 0:00:01\r\u001b[K     |███▋                            | 112 kB 5.2 MB/s eta 0:00:01\r\u001b[K     |████                            | 122 kB 5.2 MB/s eta 0:00:01\r\u001b[K     |████▎                           | 133 kB 5.2 MB/s eta 0:00:01\r\u001b[K     |████▋                           | 143 kB 5.2 MB/s eta 0:00:01\r\u001b[K     |█████                           | 153 kB 5.2 MB/s eta 0:00:01\r\u001b[K     |█████▎                          | 163 kB 5.2 MB/s eta 0:00:01\r\u001b[K     |█████▋                          | 174 kB 5.2 MB/s eta 0:00:01\r\u001b[K     |██████                          | 184 kB 5.2 MB/s eta 0:00:01\r\u001b[K     |██████▎                         | 194 kB 5.2 MB/s eta 0:00:01\r\u001b[K     |██████▋                         | 204 kB 5.2 MB/s eta 0:00:01\r\u001b[K     |███████                         | 215 kB 5.2 MB/s eta 0:00:01\r\u001b[K     |███████▎                        | 225 kB 5.2 MB/s eta 0:00:01\r\u001b[K     |███████▋                        | 235 kB 5.2 MB/s eta 0:00:01\r\u001b[K     |████████                        | 245 kB 5.2 MB/s eta 0:00:01\r\u001b[K     |████████▎                       | 256 kB 5.2 MB/s eta 0:00:01\r\u001b[K     |████████▋                       | 266 kB 5.2 MB/s eta 0:00:01\r\u001b[K     |█████████                       | 276 kB 5.2 MB/s eta 0:00:01\r\u001b[K     |█████████▎                      | 286 kB 5.2 MB/s eta 0:00:01\r\u001b[K     |█████████▋                      | 296 kB 5.2 MB/s eta 0:00:01\r\u001b[K     |██████████                      | 307 kB 5.2 MB/s eta 0:00:01\r\u001b[K     |██████████▏                     | 317 kB 5.2 MB/s eta 0:00:01\r\u001b[K     |██████████▌                     | 327 kB 5.2 MB/s eta 0:00:01\r\u001b[K     |██████████▉                     | 337 kB 5.2 MB/s eta 0:00:01\r\u001b[K     |███████████▏                    | 348 kB 5.2 MB/s eta 0:00:01\r\u001b[K     |███████████▌                    | 358 kB 5.2 MB/s eta 0:00:01\r\u001b[K     |███████████▉                    | 368 kB 5.2 MB/s eta 0:00:01\r\u001b[K     |████████████▏                   | 378 kB 5.2 MB/s eta 0:00:01\r\u001b[K     |████████████▌                   | 389 kB 5.2 MB/s eta 0:00:01\r\u001b[K     |████████████▉                   | 399 kB 5.2 MB/s eta 0:00:01\r\u001b[K     |█████████████▏                  | 409 kB 5.2 MB/s eta 0:00:01\r\u001b[K     |█████████████▌                  | 419 kB 5.2 MB/s eta 0:00:01\r\u001b[K     |█████████████▉                  | 430 kB 5.2 MB/s eta 0:00:01\r\u001b[K     |██████████████▏                 | 440 kB 5.2 MB/s eta 0:00:01\r\u001b[K     |██████████████▌                 | 450 kB 5.2 MB/s eta 0:00:01\r\u001b[K     |██████████████▉                 | 460 kB 5.2 MB/s eta 0:00:01\r\u001b[K     |███████████████▏                | 471 kB 5.2 MB/s eta 0:00:01\r\u001b[K     |███████████████▌                | 481 kB 5.2 MB/s eta 0:00:01\r\u001b[K     |███████████████▉                | 491 kB 5.2 MB/s eta 0:00:01\r\u001b[K     |████████████████▏               | 501 kB 5.2 MB/s eta 0:00:01\r\u001b[K     |████████████████▌               | 512 kB 5.2 MB/s eta 0:00:01\r\u001b[K     |████████████████▉               | 522 kB 5.2 MB/s eta 0:00:01\r\u001b[K     |█████████████████▏              | 532 kB 5.2 MB/s eta 0:00:01\r\u001b[K     |█████████████████▌              | 542 kB 5.2 MB/s eta 0:00:01\r\u001b[K     |█████████████████▉              | 552 kB 5.2 MB/s eta 0:00:01\r\u001b[K     |██████████████████▏             | 563 kB 5.2 MB/s eta 0:00:01\r\u001b[K     |██████████████████▌             | 573 kB 5.2 MB/s eta 0:00:01\r\u001b[K     |██████████████████▉             | 583 kB 5.2 MB/s eta 0:00:01\r\u001b[K     |███████████████████▏            | 593 kB 5.2 MB/s eta 0:00:01\r\u001b[K     |███████████████████▌            | 604 kB 5.2 MB/s eta 0:00:01\r\u001b[K     |███████████████████▉            | 614 kB 5.2 MB/s eta 0:00:01\r\u001b[K     |████████████████████            | 624 kB 5.2 MB/s eta 0:00:01\r\u001b[K     |████████████████████▍           | 634 kB 5.2 MB/s eta 0:00:01\r\u001b[K     |████████████████████▊           | 645 kB 5.2 MB/s eta 0:00:01\r\u001b[K     |█████████████████████           | 655 kB 5.2 MB/s eta 0:00:01\r\u001b[K     |█████████████████████▍          | 665 kB 5.2 MB/s eta 0:00:01\r\u001b[K     |█████████████████████▊          | 675 kB 5.2 MB/s eta 0:00:01\r\u001b[K     |██████████████████████          | 686 kB 5.2 MB/s eta 0:00:01\r\u001b[K     |██████████████████████▍         | 696 kB 5.2 MB/s eta 0:00:01\r\u001b[K     |██████████████████████▊         | 706 kB 5.2 MB/s eta 0:00:01\r\u001b[K     |███████████████████████         | 716 kB 5.2 MB/s eta 0:00:01\r\u001b[K     |███████████████████████▍        | 727 kB 5.2 MB/s eta 0:00:01\r\u001b[K     |███████████████████████▊        | 737 kB 5.2 MB/s eta 0:00:01\r\u001b[K     |████████████████████████        | 747 kB 5.2 MB/s eta 0:00:01\r\u001b[K     |████████████████████████▍       | 757 kB 5.2 MB/s eta 0:00:01\r\u001b[K     |████████████████████████▊       | 768 kB 5.2 MB/s eta 0:00:01\r\u001b[K     |█████████████████████████       | 778 kB 5.2 MB/s eta 0:00:01\r\u001b[K     |█████████████████████████▍      | 788 kB 5.2 MB/s eta 0:00:01\r\u001b[K     |█████████████████████████▊      | 798 kB 5.2 MB/s eta 0:00:01\r\u001b[K     |██████████████████████████      | 808 kB 5.2 MB/s eta 0:00:01\r\u001b[K     |██████████████████████████▍     | 819 kB 5.2 MB/s eta 0:00:01\r\u001b[K     |██████████████████████████▊     | 829 kB 5.2 MB/s eta 0:00:01\r\u001b[K     |███████████████████████████     | 839 kB 5.2 MB/s eta 0:00:01\r\u001b[K     |███████████████████████████▍    | 849 kB 5.2 MB/s eta 0:00:01\r\u001b[K     |███████████████████████████▊    | 860 kB 5.2 MB/s eta 0:00:01\r\u001b[K     |████████████████████████████    | 870 kB 5.2 MB/s eta 0:00:01\r\u001b[K     |████████████████████████████▍   | 880 kB 5.2 MB/s eta 0:00:01\r\u001b[K     |████████████████████████████▊   | 890 kB 5.2 MB/s eta 0:00:01\r\u001b[K     |█████████████████████████████   | 901 kB 5.2 MB/s eta 0:00:01\r\u001b[K     |█████████████████████████████▍  | 911 kB 5.2 MB/s eta 0:00:01\r\u001b[K     |█████████████████████████████▊  | 921 kB 5.2 MB/s eta 0:00:01\r\u001b[K     |██████████████████████████████  | 931 kB 5.2 MB/s eta 0:00:01\r\u001b[K     |██████████████████████████████▎ | 942 kB 5.2 MB/s eta 0:00:01\r\u001b[K     |██████████████████████████████▋ | 952 kB 5.2 MB/s eta 0:00:01\r\u001b[K     |███████████████████████████████ | 962 kB 5.2 MB/s eta 0:00:01\r\u001b[K     |███████████████████████████████▎| 972 kB 5.2 MB/s eta 0:00:01\r\u001b[K     |███████████████████████████████▋| 983 kB 5.2 MB/s eta 0:00:01\r\u001b[K     |████████████████████████████████| 993 kB 5.2 MB/s eta 0:00:01\r\u001b[K     |████████████████████████████████| 993 kB 5.2 MB/s \n",
            "\u001b[?25hRequirement already satisfied: numpy>=1.6.0 in /usr/local/lib/python3.7/dist-packages (from scikit-fuzzy) (1.19.5)\n",
            "Requirement already satisfied: scipy>=0.9.0 in /usr/local/lib/python3.7/dist-packages (from scikit-fuzzy) (1.4.1)\n",
            "Requirement already satisfied: networkx>=1.9.0 in /usr/local/lib/python3.7/dist-packages (from scikit-fuzzy) (2.6.3)\n",
            "Building wheels for collected packages: scikit-fuzzy\n",
            "  Building wheel for scikit-fuzzy (setup.py) ... \u001b[?25l\u001b[?25hdone\n",
            "  Created wheel for scikit-fuzzy: filename=scikit_fuzzy-0.4.2-py3-none-any.whl size=894089 sha256=4792e28f9bef0f8413683d7c51d6bd9a46be10bae3bc741534d908389432802d\n",
            "  Stored in directory: /root/.cache/pip/wheels/d5/74/fc/38588a3d2e3f34f74588e6daa3aa5b0a322bd6f9420a707131\n",
            "Successfully built scikit-fuzzy\n",
            "Installing collected packages: scikit-fuzzy\n",
            "Successfully installed scikit-fuzzy-0.4.2\n"
          ]
        }
      ]
    },
    {
      "cell_type": "code",
      "metadata": {
        "id": "HEviHp8Es1Cd"
      },
      "source": [
        "import numpy as np\n",
        "import skfuzzy as fuzzb\n",
        "import matplotlib.pyplot as plt"
      ],
      "execution_count": null,
      "outputs": []
    },
    {
      "cell_type": "code",
      "metadata": {
        "id": "Iobkm8Cfs1Ce"
      },
      "source": [
        "# Create universe of discourse in Python using linspace ()\n",
        "X = np.linspace(start=0, stop=75, num=75, endpoint=True, retstep=False)"
      ],
      "execution_count": null,
      "outputs": []
    },
    {
      "cell_type": "code",
      "metadata": {
        "id": "cHO3UL-ks1Cf"
      },
      "source": [
        "# Create two fuzzy sets by defining any membership function (trapmf(), gbellmf(),gaussmf(), etc).\n",
        "edades1 = [0, 25, 50]\n",
        "edades2 = [25, 50, 75]\n",
        "jovenes = fuzzb.membership.trimf(X, edades1)\n",
        "mediana_edad = fuzzb.membership.trimf(X, edades2)"
      ],
      "execution_count": null,
      "outputs": []
    },
    {
      "cell_type": "code",
      "metadata": {
        "colab": {
          "base_uri": "https://localhost:8080/",
          "height": 128
        },
        "id": "UZNTpLDz1YLA",
        "outputId": "16e500c9-ed56-4b26-bda8-d8a04a4cd417"
      },
      "source": [
        "plt.figure()\n",
        "plt.subplot(3, 2, 1)\n",
        "plt.plot(X, jovenes)\n",
        "plt.title(\"Jóvenes\")\n",
        "plt.grid(True)\n",
        "\n",
        "plt.subplot(3, 2, 2)\n",
        "plt.plot(X, mediana_edad)\n",
        "plt.title(\"Mediana Edad\")\n",
        "plt.grid(True)\n",
        "\n",
        "plt.show()"
      ],
      "execution_count": null,
      "outputs": [
        {
          "output_type": "display_data",
          "data": {
            "image/png": "[encoded data removed]",
            "text/plain": [
              "<Figure size 432x288 with 2 Axes>"
            ]
          },
          "metadata": {
            "needs_background": "light"
          }
        }
      ]
    },
    {
      "cell_type": "code",
      "metadata": {
        "id": "tafAKwt8s1Cg"
      },
      "source": [
        "# Compute the different operations using inbuilt functions.\n",
        "one = np.ones(75)\n",
        "zero = np.zeros((75,))"
      ],
      "execution_count": null,
      "outputs": []
    },
    {
      "cell_type": "code",
      "metadata": {
        "colab": {
          "base_uri": "https://localhost:8080/",
          "height": 163
        },
        "id": "vYDWthKts1Ch",
        "outputId": "fc9bc103-0dcd-40e9-a65e-e827a0eb43d2"
      },
      "source": [
        "# 1. Union = max(µA(x), µB(x))\n",
        "union = fuzzb.fuzzy_or(X, jovenes, X, mediana_edad)[1]\n",
        "\n",
        "plt.subplot(2, 2, 1)\n",
        "plt.plot(X, union)\n",
        "plt.title(\"Unión\")\n",
        "plt.grid(True)"
      ],
      "execution_count": null,
      "outputs": [
        {
          "output_type": "display_data",
          "data": {
            "image/png": "[encoded data removed]",
            "text/plain": [
              "<Figure size 432x288 with 1 Axes>"
            ]
          },
          "metadata": {
            "needs_background": "light"
          }
        }
      ]
    },
    {
      "cell_type": "code",
      "metadata": {
        "colab": {
          "base_uri": "https://localhost:8080/",
          "height": 163
        },
        "id": "y2e6jvvws1Ci",
        "outputId": "53c1dac3-68eb-44ea-edab-0a0da24b8ab7"
      },
      "source": [
        "# 2. Intersection = min(µA(x), µB(x))\n",
        "interseccion = fuzzb.fuzzy_and(X, jovenes, X, mediana_edad)[1]\n",
        "plt.subplot(2, 2, 1)\n",
        "plt.plot(X, interseccion)\n",
        "plt.title(\"Intersección\")\n",
        "plt.grid(True)"
      ],
      "execution_count": null,
      "outputs": [
        {
          "output_type": "display_data",
          "data": {
            "image/png": "[encoded data removed]",
            "text/plain": [
              "<Figure size 432x288 with 1 Axes>"
            ]
          },
          "metadata": {
            "needs_background": "light"
          }
        }
      ]
    },
    {
      "cell_type": "code",
      "metadata": {
        "colab": {
          "base_uri": "https://localhost:8080/",
          "height": 163
        },
        "id": "3YGXQUT2s1Cj",
        "outputId": "37fb61c0-368e-4f13-99dc-ec94707f070c"
      },
      "source": [
        "# 3. Complement (A) = (1 - µA(x))\n",
        "complemento_a = fuzzb.fuzzy_not(jovenes)\n",
        "plt.subplot(2, 2, 1)\n",
        "plt.plot(X, complemento_a)\n",
        "plt.title(\"Complemento de A\")\n",
        "plt.grid(True)"
      ],
      "execution_count": null,
      "outputs": [
        {
          "output_type": "display_data",
          "data": {
            "image/png": "[encoded data removed]",
            "text/plain": [
              "<Figure size 432x288 with 1 Axes>"
            ]
          },
          "metadata": {
            "needs_background": "light"
          }
        }
      ]
    },
    {
      "cell_type": "code",
      "metadata": {
        "colab": {
          "base_uri": "https://localhost:8080/",
          "height": 163
        },
        "id": "ROFLh6kss1Ck",
        "outputId": "2dd67ba4-358f-4ff9-a66e-ad047ad9b178"
      },
      "source": [
        "# 4. Diferencia (A/B) = min(µA(x),(1- µB(x)))\n",
        "diferencia = fuzzb.fuzzy_and(X, jovenes, X, fuzzb.fuzzy_not(mediana_edad)[1])[1]\n",
        "plt.subplot(2, 2, 1)\n",
        "plt.plot(X, diferencia)\n",
        "plt.title(\"Diferencia A/B\")\n",
        "plt.grid(True)"
      ],
      "execution_count": null,
      "outputs": [
        {
          "output_type": "display_data",
          "data": {
            "image/png": "[encoded data removed]",
            "text/plain": [
              "<Figure size 432x288 with 1 Axes>"
            ]
          },
          "metadata": {
            "needs_background": "light"
          }
        }
      ]
    },
    {
      "cell_type": "code",
      "metadata": {
        "id": "cv39VgcOs1Ck",
        "colab": {
          "base_uri": "https://localhost:8080/",
          "height": 163
        },
        "outputId": "8881f2e9-5be0-4aa5-a550-58b4741204a5"
      },
      "source": [
        "# 5. Suma Algebraica = [µA(x) + µB(x) – (µA(x) * µB(x))]\n",
        "suma_alg = jovenes + mediana_edad - (jovenes * mediana_edad)\n",
        "plt.subplot(2, 2, 1)\n",
        "plt.plot(X, suma_alg)\n",
        "plt.title(\"Suma Algebraica\")\n",
        "plt.grid(True)"
      ],
      "execution_count": null,
      "outputs": [
        {
          "output_type": "display_data",
          "data": {
            "image/png": "[encoded data removed]",
            "text/plain": [
              "<Figure size 432x288 with 1 Axes>"
            ]
          },
          "metadata": {
            "needs_background": "light"
          }
        }
      ]
    },
    {
      "cell_type": "code",
      "metadata": {
        "id": "6KHJYaZvs1Cl",
        "colab": {
          "base_uri": "https://localhost:8080/",
          "height": 163
        },
        "outputId": "7ac2a291-9dc1-43fb-ef96-5c6126d033b2"
      },
      "source": [
        "# 6. Producto Algebraico = (µA(x) * µB(x))\n",
        "producto_alg = jovenes * mediana_edad\n",
        "plt.subplot(2, 2, 1)\n",
        "plt.plot(X, suma_alg)\n",
        "plt.title(\"Producto Algebraico\")\n",
        "plt.grid(True)"
      ],
      "execution_count": null,
      "outputs": [
        {
          "output_type": "display_data",
          "data": {
            "image/png": "[encoded data removed]",
            "text/plain": [
              "<Figure size 432x288 with 1 Axes>"
            ]
          },
          "metadata": {
            "needs_background": "light"
          }
        }
      ]
    },
    {
      "cell_type": "code",
      "metadata": {
        "id": "kR4m_Pi6s1Cs",
        "colab": {
          "base_uri": "https://localhost:8080/",
          "height": 34
        },
        "outputId": "7350a936-bdfa-4533-b716-c1022dbfb477"
      },
      "source": [
        "plt.subplots_adjust(hspace=0.5)\n",
        "plt.show()"
      ],
      "execution_count": null,
      "outputs": [
        {
          "output_type": "display_data",
          "data": {
            "text/plain": [
              "<Figure size 432x288 with 0 Axes>"
            ]
          },
          "metadata": {}
        }
      ]
    }
  ]
}